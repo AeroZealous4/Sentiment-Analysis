{
  "nbformat": 4,
  "nbformat_minor": 0,
  "metadata": {
    "colab": {
      "name": "Sentiment_Analysis_LSTM.ipynb",
      "provenance": [],
      "collapsed_sections": [],
      "authorship_tag": "ABX9TyPvL4FuX4aBLU/HbN1tIQKP",
      "include_colab_link": true
    },
    "kernelspec": {
      "name": "python3",
      "display_name": "Python 3"
    },
    "accelerator": "GPU"
  },
  "cells": [
    {
      "cell_type": "markdown",
      "metadata": {
        "id": "view-in-github",
        "colab_type": "text"
      },
      "source": [
        "<a href=\"https://colab.research.google.com/github/AeroZealous4/Sentiment-Analysis/blob/main/Sentiment_Analysis_LSTM.ipynb\" target=\"_parent\"><img src=\"https://colab.research.google.com/assets/colab-badge.svg\" alt=\"Open In Colab\"/></a>"
      ]
    },
    {
      "cell_type": "code",
      "metadata": {
        "id": "ovaAOeqXiO1g",
        "colab": {
          "base_uri": "https://localhost:8080/"
        },
        "outputId": "fb8297b3-6561-43be-87d6-d5fbf4781892"
      },
      "source": [
        "from google.colab import drive\n",
        "drive.mount('/content/drive')\n",
        "import os\n",
        "# input_dir=\"/content/drive/My Drive/deep_learning_assignment/training/data/\"\n",
        "dir_glove6B50d=\"/content/drive/My Drive/AML/Assignment 2/glove.6B/glove.6B.50d.txt\"\n",
        "dir_glove6B100d=\"/content/drive/My Drive/AML/Assignment 2/glove.6B/glove.6B.100d.txt\"\n",
        "dir_glove6B200d=\"/content/drive/My Drive/AML/Assignment 2/glove.6B/glove.6B.200d.txt\"\n",
        "dir_glove6B300d=\"/content/drive/My Drive/AML/Assignment 2/glove.6B/glove.6B.300d.txt\"\n",
        "\n",
        "dir_glove27B25d=\"/content/drive/My Drive/AML/Assignment 2/glove.twitter.27B/glove.twitter.27B.25d.txt\"\n",
        "dir_glove27B50d=\"/content/drive/My Drive/AML/Assignment 2/glove.twitter.27B/glove.twitter.27B.50d.txt\"\n",
        "dir_glove27B100d=\"/content/drive/My Drive/AML/Assignment 2/glove.twitter.27B/glove.twitter.27B.100d.txt\"\n",
        "dir_glove27B200d=\"/content/drive/My Drive/AML/Assignment 2/glove.twitter.27B/glove.twitter.27B.200d.txt\""
      ],
      "execution_count": null,
      "outputs": [
        {
          "output_type": "stream",
          "text": [
            "Mounted at /content/drive\n"
          ],
          "name": "stdout"
        }
      ]
    },
    {
      "cell_type": "markdown",
      "metadata": {
        "id": "EcToh8zQjN5l"
      },
      "source": [
        "Cite:glove dataset: https://nlp.stanford.edu/projects/glove/\n",
        "Code: https://machinelearningmastery.com/use-word-embedding-layers-deep-learning-keras/"
      ]
    },
    {
      "cell_type": "markdown",
      "metadata": {
        "id": "CBdHOhdFSrtz"
      },
      "source": [
        "# World Embedding\n",
        "Analogy Tasks for glove \n",
        "\n",
        "Ref: Jeffrey Pennington, Richard Socher, and Christopher D. Manning. 2014"
      ]
    },
    {
      "cell_type": "code",
      "metadata": {
        "id": "TOe8SKORiL_5",
        "colab": {
          "base_uri": "https://localhost:8080/"
        },
        "outputId": "abcef6be-3f4c-4e94-c189-09433f91c79f"
      },
      "source": [
        "from numpy import linalg as LA\n",
        "from numpy import array\n",
        "from numpy import asarray\n",
        "from numpy import zeros\n",
        "from keras.preprocessing.text import Tokenizer\n",
        "from keras.preprocessing.sequence import pad_sequences\n",
        "from keras.models import Sequential\n",
        "from keras.layers import Dense\n",
        "from keras.layers import Flatten\n",
        "from keras.layers import Embedding\n",
        "\n",
        "print(\"glove word embedding with 400000 word vectors and different dimensions\")\n",
        "# for dir_glove6B in [dir_glove27B25d,dir_glove6B50d,dir_glove27B50d,dir_glove6B100d,dir_glove27B100d, dir_glove6B200d, dir_glove27B200d, dir_glove6B300d]:\n",
        "\n",
        "for dir_glove6B in [dir_glove27B25d,dir_glove27B50d,dir_glove27B100d,dir_glove27B200d]:\n",
        "  \n",
        "  # load the whole embedding into memory\n",
        "  embeddings_index = dict()\n",
        "  f = open(dir_glove6B)#'../glove_data/glove.6B/glove.6B.100d.txt')\n",
        "  for line in f:\n",
        "    values = line.split()\n",
        "    word = values[0]\n",
        "    coefs = asarray(values[1:], dtype='float32')\n",
        "    embeddings_index[word] = coefs\n",
        "  f.close()\n",
        "  # print('Loaded %s word vectors.' % len(embeddings_index))\n",
        "\n",
        "  # print((embeddings_index.get('word')).shape)\n",
        "  # v(‘prince’) – v(‘boy’) + v(‘girl’)\n",
        "  # A = embeddings_index.get('prince') - embeddings_index.get('boy') + embeddings_index.get('girl');\n",
        "  # B = embeddings_index.get('princess')\n",
        "  # print(dir_glove6B[-20:-3])\n",
        "  # print(LA.norm((A-B),2))\n",
        "\n",
        "  A = embeddings_index.get('king') - embeddings_index.get('men') + embeddings_index.get('woman');\n",
        "  B = embeddings_index.get('queen')\n",
        "  print(dir_glove6B[:])\n",
        "  print(LA.norm((A-B),2))"
      ],
      "execution_count": null,
      "outputs": [
        {
          "output_type": "stream",
          "text": [
            "glove word embedding with 400000 word vectors and different dimensions\n",
            "/content/drive/My Drive/AML/Assignment 2/glove.twitter.27B/glove.twitter.27B.25d.txt\n",
            "3.9629965\n",
            "/content/drive/My Drive/AML/Assignment 2/glove.twitter.27B/glove.twitter.27B.50d.txt\n",
            "5.118873\n",
            "/content/drive/My Drive/AML/Assignment 2/glove.twitter.27B/glove.twitter.27B.100d.txt\n",
            "6.0673065\n",
            "/content/drive/My Drive/AML/Assignment 2/glove.twitter.27B/glove.twitter.27B.200d.txt\n",
            "7.2013826\n"
          ],
          "name": "stdout"
        }
      ]
    },
    {
      "cell_type": "markdown",
      "metadata": {
        "id": "GBIQ1gSjZpkV"
      },
      "source": [
        "Sentiment Analysis LSTM Keras\n",
        "\n",
        "Ref: https://github.com/hansmichaels/sentiment-analysis-IMDB-Review-using-LSTM/blob/master/sentiment_analysis.py.ipynb"
      ]
    },
    {
      "cell_type": "code",
      "metadata": {
        "id": "7-w1JndGUKsY",
        "colab": {
          "base_uri": "https://localhost:8080/"
        },
        "outputId": "352b5be5-5ad9-4f42-94bf-1d1341b7906a"
      },
      "source": [
        "import pandas as pd    # to load dataset\n",
        "import numpy as np     # for mathematic equation\n",
        "import nltk\n",
        "nltk.download('stopwords')\n",
        "from nltk.corpus import stopwords   # to get collection of stopwords\n",
        "from sklearn.model_selection import train_test_split       # for splitting dataset\n",
        "from tensorflow.keras.preprocessing.text import Tokenizer  # to encode text to int\n",
        "from tensorflow.keras.preprocessing.sequence import pad_sequences   # to do padding or truncating\n",
        "from tensorflow.keras.models import Sequential     # the model\n",
        "from tensorflow.keras.layers import Embedding, LSTM, Dense # layers of the architecture\n",
        "from tensorflow.keras.callbacks import ModelCheckpoint   # save model\n",
        "from tensorflow.keras.models import load_model   # load saved model\n",
        "import re"
      ],
      "execution_count": null,
      "outputs": [
        {
          "output_type": "stream",
          "text": [
            "[nltk_data] Downloading package stopwords to /root/nltk_data...\n",
            "[nltk_data]   Unzipping corpora/stopwords.zip.\n"
          ],
          "name": "stdout"
        }
      ]
    },
    {
      "cell_type": "code",
      "metadata": {
        "id": "4EAvrtQgYqR4",
        "colab": {
          "base_uri": "https://localhost:8080/"
        },
        "outputId": "b3e6b1e0-cef8-4a37-f3df-e4674f97ae43"
      },
      "source": [
        "\n",
        "data = pd.read_csv('/content/drive/My Drive/AML/Assignment 2/IMDB Dataset.csv')\n",
        "\n",
        "print(data)"
      ],
      "execution_count": null,
      "outputs": [
        {
          "output_type": "stream",
          "text": [
            "                                                  review sentiment\n",
            "0      One of the other reviewers has mentioned that ...  positive\n",
            "1      A wonderful little production. <br /><br />The...  positive\n",
            "2      I thought this was a wonderful way to spend ti...  positive\n",
            "3      Basically there's a family where a little boy ...  negative\n",
            "4      Petter Mattei's \"Love in the Time of Money\" is...  positive\n",
            "...                                                  ...       ...\n",
            "49995  I thought this movie did a down right good job...  positive\n",
            "49996  Bad plot, bad dialogue, bad acting, idiotic di...  negative\n",
            "49997  I am a Catholic taught in parochial elementary...  negative\n",
            "49998  I'm going to have to disagree with the previou...  negative\n",
            "49999  No one expects the Star Trek movies to be high...  negative\n",
            "\n",
            "[50000 rows x 2 columns]\n"
          ],
          "name": "stdout"
        }
      ]
    },
    {
      "cell_type": "code",
      "metadata": {
        "id": "XjWbDO3QZSPC",
        "colab": {
          "base_uri": "https://localhost:8080/"
        },
        "outputId": "35cfe91d-cc99-42be-80b8-721c45e8eea9"
      },
      "source": [
        "\n",
        "english_stops = set(stopwords.words('english'))\n",
        "\n",
        "def load_dataset():\n",
        "    df = pd.read_csv('/content/drive/My Drive/AML/Assignment 2/IMDB Dataset.csv')\n",
        "    x_data = df['review']       # Reviews/Input\n",
        "    y_data = df['sentiment']    # Sentiment/Output\n",
        "\n",
        "    # PRE-PROCESS REVIEW\n",
        "    x_data = x_data.replace({'<.*?>': ''}, regex = True)          # remove html tag\n",
        "    x_data = x_data.replace({'[^A-Za-z]': ' '}, regex = True)     # remove non alphabet\n",
        "    x_data = x_data.apply(lambda review: [w.lower() for w in review.split()])   # lower case\n",
        "    x_data = x_data.apply(lambda review: [w for w in review if w not in english_stops])  # remove stop words\n",
        "    \n",
        "    # ENCODE SENTIMENT -> 0 & 1\n",
        "    y_data = y_data.replace('positive', 1)\n",
        "    y_data = y_data.replace('negative', 0)\n",
        "\n",
        "    return x_data, y_data\n",
        "\n",
        "x_data, y_data = load_dataset()\n",
        "\n",
        "print('Reviews')\n",
        "print(x_data, '\\n')\n",
        "print('Sentiment')\n",
        "print(y_data)"
      ],
      "execution_count": null,
      "outputs": [
        {
          "output_type": "stream",
          "text": [
            "Reviews\n",
            "0        [one, reviewers, mentioned, watching, oz, epis...\n",
            "1        [wonderful, little, production, filming, techn...\n",
            "2        [thought, wonderful, way, spend, time, hot, su...\n",
            "3        [basically, family, little, boy, jake, thinks,...\n",
            "4        [petter, mattei, love, time, money, visually, ...\n",
            "                               ...                        \n",
            "49995    [thought, movie, right, good, job, creative, o...\n",
            "49996    [bad, plot, bad, dialogue, bad, acting, idioti...\n",
            "49997    [catholic, taught, parochial, elementary, scho...\n",
            "49998    [going, disagree, previous, comment, side, mal...\n",
            "49999    [one, expects, star, trek, movies, high, art, ...\n",
            "Name: review, Length: 50000, dtype: object \n",
            "\n",
            "Sentiment\n",
            "0        1\n",
            "1        1\n",
            "2        1\n",
            "3        0\n",
            "4        1\n",
            "        ..\n",
            "49995    1\n",
            "49996    0\n",
            "49997    0\n",
            "49998    0\n",
            "49999    0\n",
            "Name: sentiment, Length: 50000, dtype: int64\n"
          ],
          "name": "stdout"
        }
      ]
    },
    {
      "cell_type": "code",
      "metadata": {
        "id": "JDZCOivoi9KU",
        "colab": {
          "base_uri": "https://localhost:8080/"
        },
        "outputId": "4c69373e-7956-491b-f2d7-b533a2c9487f"
      },
      "source": [
        "#Splitting Test and Train data set\n",
        "\n",
        "x_train, x_test, y_train, y_test = train_test_split(x_data, y_data, test_size = 0.25)\n",
        "\n",
        "print('Train Set')\n",
        "print(x_train, '\\n')\n",
        "print(y_train, '\\n')\n",
        "\n",
        "print('Test Set')\n",
        "print(x_test, '\\n')\n",
        "print(y_test, '\\n')\n",
        "\n",
        "print((x_train).shape, '\\n')"
      ],
      "execution_count": null,
      "outputs": [
        {
          "output_type": "stream",
          "text": [
            "Train Set\n",
            "33152    [one, stupid, worthless, movies, ever, really,...\n",
            "47362    [think, far, base, saying, possibly, worst, mo...\n",
            "48438    [clever, overall, story, location, story, acti...\n",
            "8785     [inspector, gadget, starring, matthew, broderi...\n",
            "2025     [film, probably, worst, movie, watched, long, ...\n",
            "                               ...                        \n",
            "6017     [typical, goth, chick, rainbow, harvest, looki...\n",
            "28732    [scarlet, coat, like, revolution, flicks, wasn...\n",
            "44227    [germans, stand, open, get, mowed, machine, gu...\n",
            "8002     [brilliant, film, next, best, film, drunken, m...\n",
            "12530    [tedium, french, checked, watch, first, time, ...\n",
            "Name: review, Length: 37500, dtype: object \n",
            "\n",
            "33152    0\n",
            "47362    0\n",
            "48438    0\n",
            "8785     0\n",
            "2025     0\n",
            "        ..\n",
            "6017     0\n",
            "28732    1\n",
            "44227    0\n",
            "8002     1\n",
            "12530    0\n",
            "Name: sentiment, Length: 37500, dtype: int64 \n",
            "\n",
            "Test Set\n",
            "17698    [unlike, comments, mine, positive, movie, wrap...\n",
            "23647    [stairway, heaven, outstanding, invention, mov...\n",
            "43307    [movie, based, bible, completely, leaves, chri...\n",
            "9895     [year, old, girl, develops, first, serious, cr...\n",
            "31652    [came, across, movie, australian, hotel, room,...\n",
            "                               ...                        \n",
            "24253    [wow, snoozer, definately, one, bacon, worst, ...\n",
            "29461    [saw, movie, first, came, france, hometown, ye...\n",
            "31653    [mina, kumari, exhibits, style, grace, moving,...\n",
            "2718     [went, see, movie, hoping, see, flashes, jet, ...\n",
            "14483    [well, watched, last, night, one, thing, make,...\n",
            "Name: review, Length: 12500, dtype: object \n",
            "\n",
            "17698    1\n",
            "23647    1\n",
            "43307    0\n",
            "9895     1\n",
            "31652    1\n",
            "        ..\n",
            "24253    0\n",
            "29461    1\n",
            "31653    1\n",
            "2718     0\n",
            "14483    0\n",
            "Name: sentiment, Length: 12500, dtype: int64 \n",
            "\n",
            "(37500,) \n",
            "\n"
          ],
          "name": "stdout"
        }
      ]
    },
    {
      "cell_type": "code",
      "metadata": {
        "id": "SQ9p73UKpd0j",
        "colab": {
          "base_uri": "https://localhost:8080/"
        },
        "outputId": "c32f89bb-8c7a-4fe1-aa0e-6261f4772e1b"
      },
      "source": [
        "# Choose Max length for review \n",
        "def get_max_length():\n",
        "    review_length = []\n",
        "    for review in x_train:\n",
        "        review_length.append(len(review))\n",
        "\n",
        "    return int(np.ceil(np.mean(review_length)))\n",
        "\n",
        "# ENCODE REVIEW\n",
        "token = Tokenizer(lower=False)    # no need lower, because already lowered the data in load_data()\n",
        "token.fit_on_texts(x_train)\n",
        "x_train = token.texts_to_sequences(x_train)\n",
        "x_test = token.texts_to_sequences(x_test)\n",
        "\n",
        "max_length = get_max_length()\n",
        "\n",
        "# max_length = 200;\n",
        "print(\"Length of review: \")\n",
        "print(max_length)\n",
        "\n",
        "x_train = pad_sequences(x_train, maxlen=max_length, padding='post', truncating='post')\n",
        "x_test  = pad_sequences(x_test, maxlen=max_length, padding='post', truncating='post')\n",
        "\n",
        "total_words = len(token.word_index) + 1   # add 1 because of 0 padding\n",
        "# vocab_size = len(t.word_index) + 1\n",
        "\n",
        "print('Encoded X Train\\n', x_train, '\\n')\n",
        "print('Encoded X Test\\n', x_test, '\\n')\n",
        "print('Maximum review length: ', max_length)\n",
        "print(x_train.shape)"
      ],
      "execution_count": null,
      "outputs": [
        {
          "output_type": "stream",
          "text": [
            "Length of review: \n",
            "118\n",
            "Encoded X Train\n",
            " [[   3  243 3458 ...    0    0    0]\n",
            " [  26  116 2647 ...    0    0    0]\n",
            " [ 907  319   10 ...    0    0    0]\n",
            " ...\n",
            " [3105  649  685 ...    0    0    0]\n",
            " [ 373    2  250 ...    0    0    0]\n",
            " [8712  557 4493 ...    0    0    0]] \n",
            "\n",
            "Encoded X Test\n",
            " [[  884   657  1550 ...     0     0     0]\n",
            " [14956  1670  1224 ...     0     0     0]\n",
            " [    1   311  3064 ...     0     0     0]\n",
            " ...\n",
            " [24855 21882 11455 ...     0     0     0]\n",
            " [  291    11     1 ...     0     0     0]\n",
            " [   12   170   125 ...     0     0     0]] \n",
            "\n",
            "Maximum review length:  118\n",
            "(37500, 118)\n"
          ],
          "name": "stdout"
        }
      ]
    },
    {
      "cell_type": "code",
      "metadata": {
        "id": "_29fkcAFLNj7",
        "colab": {
          "base_uri": "https://localhost:8080/"
        },
        "outputId": "f0390dd9-bb35-46e5-a404-fca30c561143"
      },
      "source": [
        "from numpy import array\n",
        "from numpy import asarray\n",
        "from numpy import zeros\n",
        "\n",
        "# load the whole embedding into memory\n",
        "embeddings_index = dict()\n",
        "f = open(dir_glove6B100d)#'../glove_data/glove.6B/glove.6B.100d.txt')\n",
        "for line in f:\n",
        "\tvalues = line.split()\n",
        "\tword = values[0]\n",
        "\tcoefs = asarray(values[1:], dtype='float32')\n",
        "\tembeddings_index[word] = coefs\n",
        "f.close()\n",
        "print('Loaded %s word vectors.' % len(embeddings_index))\n",
        "# create a weight matrix for words in training docs\n",
        "embedding_matrix = zeros((total_words, 100))\n",
        "for word, i in token.word_index.items():\n",
        "\tembedding_vector = embeddings_index.get(word)\n",
        "\tif embedding_vector is not None:\n",
        "\t\tembedding_matrix[i] = embedding_vector"
      ],
      "execution_count": null,
      "outputs": [
        {
          "output_type": "stream",
          "text": [
            "Loaded 400000 word vectors.\n"
          ],
          "name": "stdout"
        }
      ]
    },
    {
      "cell_type": "code",
      "metadata": {
        "id": "nyTk6Re_N3av",
        "colab": {
          "base_uri": "https://localhost:8080/"
        },
        "outputId": "72bfa9e1-6071-4bb9-c3f3-b6c88a5cdcff"
      },
      "source": [
        "from tensorflow.keras import layers\n",
        "from keras.models import Sequential\n",
        "from keras.layers import Dense\n",
        "from keras.layers import Flatten\n",
        "from keras.layers import Embedding\n",
        "\n",
        "\n",
        "# ARCHITECTURE\n",
        "EMBED_DIM = 100\n",
        "LSTM_OUT = 64\n",
        "\n",
        "model = Sequential()\n",
        "model.add(Embedding(total_words, EMBED_DIM, weights=[embedding_matrix], input_length = max_length , trainable=True))\n",
        "model.add(LSTM(LSTM_OUT, return_sequences=True))\n",
        "model.add(LSTM(LSTM_OUT))\n",
        "# gru = tf.keras.layers.GRU(LSTM_OUT)\n",
        "# model.add(layers.GRU((LSTM_OUT)));#, return_sequences=True))\n",
        "model.add(Dense(1, activation='sigmoid'))\n",
        "model.compile(optimizer = 'adam', loss = 'binary_crossentropy', metrics = ['accuracy'])\n",
        "\n",
        "print(model.summary())\n",
        "\n"
      ],
      "execution_count": null,
      "outputs": [
        {
          "output_type": "stream",
          "text": [
            "Model: \"sequential_1\"\n",
            "_________________________________________________________________\n",
            "Layer (type)                 Output Shape              Param #   \n",
            "=================================================================\n",
            "embedding_1 (Embedding)      (None, 118, 100)          8987900   \n",
            "_________________________________________________________________\n",
            "lstm (LSTM)                  (None, 118, 64)           42240     \n",
            "_________________________________________________________________\n",
            "lstm_1 (LSTM)                (None, 64)                33024     \n",
            "_________________________________________________________________\n",
            "dense_1 (Dense)              (None, 1)                 65        \n",
            "=================================================================\n",
            "Total params: 9,063,229\n",
            "Trainable params: 9,063,229\n",
            "Non-trainable params: 0\n",
            "_________________________________________________________________\n",
            "None\n"
          ],
          "name": "stdout"
        }
      ]
    },
    {
      "cell_type": "code",
      "metadata": {
        "id": "3voC4V4oQjx9",
        "colab": {
          "base_uri": "https://localhost:8080/"
        },
        "outputId": "45231903-8ea0-4dde-a0f5-c9c8c504b660"
      },
      "source": [
        "#Training\n",
        "\n",
        "checkpoint = ModelCheckpoint(\n",
        "    'models/LSTM.h5',\n",
        "    monitor='accuracy',\n",
        "    save_best_only=True,\n",
        "    verbose=1\n",
        ")\n",
        "\n",
        "\n",
        "history = model.fit(x_train, y_train,validation_data= (x_test,y_test), batch_size = 128, epochs = 20, callbacks=[checkpoint])\n"
      ],
      "execution_count": null,
      "outputs": [
        {
          "output_type": "stream",
          "text": [
            "Epoch 1/20\n",
            "293/293 [==============================] - ETA: 0s - loss: 0.6274 - accuracy: 0.6501\n",
            "Epoch 00001: accuracy improved from -inf to 0.65005, saving model to models/LSTM.h5\n",
            "293/293 [==============================] - 33s 113ms/step - loss: 0.6274 - accuracy: 0.6501 - val_loss: 0.6362 - val_accuracy: 0.6481\n",
            "Epoch 2/20\n",
            "293/293 [==============================] - ETA: 0s - loss: 0.6078 - accuracy: 0.6864\n",
            "Epoch 00002: accuracy improved from 0.65005 to 0.68637, saving model to models/LSTM.h5\n",
            "293/293 [==============================] - 32s 111ms/step - loss: 0.6078 - accuracy: 0.6864 - val_loss: 0.5010 - val_accuracy: 0.7935\n",
            "Epoch 3/20\n",
            "293/293 [==============================] - ETA: 0s - loss: 0.3604 - accuracy: 0.8525\n",
            "Epoch 00003: accuracy improved from 0.68637 to 0.85251, saving model to models/LSTM.h5\n",
            "293/293 [==============================] - 32s 111ms/step - loss: 0.3604 - accuracy: 0.8525 - val_loss: 0.3013 - val_accuracy: 0.8738\n",
            "Epoch 4/20\n",
            "293/293 [==============================] - ETA: 0s - loss: 0.1929 - accuracy: 0.9311\n",
            "Epoch 00004: accuracy improved from 0.85251 to 0.93109, saving model to models/LSTM.h5\n",
            "293/293 [==============================] - 32s 110ms/step - loss: 0.1929 - accuracy: 0.9311 - val_loss: 0.3077 - val_accuracy: 0.8815\n",
            "Epoch 5/20\n",
            "293/293 [==============================] - ETA: 0s - loss: 0.0989 - accuracy: 0.9699\n",
            "Epoch 00005: accuracy improved from 0.93109 to 0.96992, saving model to models/LSTM.h5\n",
            "293/293 [==============================] - 32s 111ms/step - loss: 0.0989 - accuracy: 0.9699 - val_loss: 0.3690 - val_accuracy: 0.8761\n",
            "Epoch 6/20\n",
            "293/293 [==============================] - ETA: 0s - loss: 0.0525 - accuracy: 0.9859\n",
            "Epoch 00006: accuracy improved from 0.96992 to 0.98587, saving model to models/LSTM.h5\n",
            "293/293 [==============================] - 32s 111ms/step - loss: 0.0525 - accuracy: 0.9859 - val_loss: 0.4779 - val_accuracy: 0.8714\n",
            "Epoch 7/20\n",
            "293/293 [==============================] - ETA: 0s - loss: 0.0337 - accuracy: 0.9922\n",
            "Epoch 00007: accuracy improved from 0.98587 to 0.99224, saving model to models/LSTM.h5\n",
            "293/293 [==============================] - 32s 110ms/step - loss: 0.0337 - accuracy: 0.9922 - val_loss: 0.5471 - val_accuracy: 0.8634\n",
            "Epoch 8/20\n",
            "293/293 [==============================] - ETA: 0s - loss: 0.0228 - accuracy: 0.9954\n",
            "Epoch 00008: accuracy improved from 0.99224 to 0.99541, saving model to models/LSTM.h5\n",
            "293/293 [==============================] - 32s 110ms/step - loss: 0.0228 - accuracy: 0.9954 - val_loss: 0.6208 - val_accuracy: 0.8690\n",
            "Epoch 9/20\n",
            "293/293 [==============================] - ETA: 0s - loss: 0.0177 - accuracy: 0.9971\n",
            "Epoch 00009: accuracy improved from 0.99541 to 0.99709, saving model to models/LSTM.h5\n",
            "293/293 [==============================] - 32s 110ms/step - loss: 0.0177 - accuracy: 0.9971 - val_loss: 0.6070 - val_accuracy: 0.8627\n",
            "Epoch 10/20\n",
            "293/293 [==============================] - ETA: 0s - loss: 0.0176 - accuracy: 0.9967\n",
            "Epoch 00010: accuracy did not improve from 0.99709\n",
            "293/293 [==============================] - 33s 111ms/step - loss: 0.0176 - accuracy: 0.9967 - val_loss: 0.7077 - val_accuracy: 0.8608\n",
            "Epoch 11/20\n",
            "293/293 [==============================] - ETA: 0s - loss: 0.0137 - accuracy: 0.9978\n",
            "Epoch 00011: accuracy improved from 0.99709 to 0.99776, saving model to models/LSTM.h5\n",
            "293/293 [==============================] - 33s 111ms/step - loss: 0.0137 - accuracy: 0.9978 - val_loss: 0.6868 - val_accuracy: 0.8599\n",
            "Epoch 12/20\n",
            "293/293 [==============================] - ETA: 0s - loss: 0.0139 - accuracy: 0.9974\n",
            "Epoch 00012: accuracy did not improve from 0.99776\n",
            "293/293 [==============================] - 32s 110ms/step - loss: 0.0139 - accuracy: 0.9974 - val_loss: 0.7213 - val_accuracy: 0.8603\n",
            "Epoch 13/20\n",
            "293/293 [==============================] - ETA: 0s - loss: 0.0138 - accuracy: 0.9974\n",
            "Epoch 00013: accuracy did not improve from 0.99776\n",
            "293/293 [==============================] - 32s 108ms/step - loss: 0.0138 - accuracy: 0.9974 - val_loss: 0.6893 - val_accuracy: 0.8642\n",
            "Epoch 14/20\n",
            "293/293 [==============================] - ETA: 0s - loss: 0.0101 - accuracy: 0.9984\n",
            "Epoch 00014: accuracy improved from 0.99776 to 0.99843, saving model to models/LSTM.h5\n",
            "293/293 [==============================] - 32s 110ms/step - loss: 0.0101 - accuracy: 0.9984 - val_loss: 0.7855 - val_accuracy: 0.8603\n",
            "Epoch 15/20\n",
            "293/293 [==============================] - ETA: 0s - loss: 0.0089 - accuracy: 0.9986\n",
            "Epoch 00015: accuracy improved from 0.99843 to 0.99864, saving model to models/LSTM.h5\n",
            "293/293 [==============================] - 33s 112ms/step - loss: 0.0089 - accuracy: 0.9986 - val_loss: 0.7853 - val_accuracy: 0.8587\n",
            "Epoch 16/20\n",
            "293/293 [==============================] - ETA: 0s - loss: 0.0074 - accuracy: 0.9989\n",
            "Epoch 00016: accuracy improved from 0.99864 to 0.99888, saving model to models/LSTM.h5\n",
            "293/293 [==============================] - 33s 112ms/step - loss: 0.0074 - accuracy: 0.9989 - val_loss: 0.8529 - val_accuracy: 0.8482\n",
            "Epoch 17/20\n",
            "293/293 [==============================] - ETA: 0s - loss: 0.0073 - accuracy: 0.9988\n",
            "Epoch 00017: accuracy did not improve from 0.99888\n",
            "293/293 [==============================] - 33s 111ms/step - loss: 0.0073 - accuracy: 0.9988 - val_loss: 0.8062 - val_accuracy: 0.8558\n",
            "Epoch 18/20\n",
            "293/293 [==============================] - ETA: 0s - loss: 0.0073 - accuracy: 0.9988\n",
            "Epoch 00018: accuracy did not improve from 0.99888\n",
            "293/293 [==============================] - 32s 110ms/step - loss: 0.0073 - accuracy: 0.9988 - val_loss: 0.8310 - val_accuracy: 0.8604\n",
            "Epoch 19/20\n",
            "293/293 [==============================] - ETA: 0s - loss: 0.0064 - accuracy: 0.9989\n",
            "Epoch 00019: accuracy did not improve from 0.99888\n",
            "293/293 [==============================] - 32s 111ms/step - loss: 0.0064 - accuracy: 0.9989 - val_loss: 0.8337 - val_accuracy: 0.8589\n",
            "Epoch 20/20\n",
            "293/293 [==============================] - ETA: 0s - loss: 0.0045 - accuracy: 0.9993\n",
            "Epoch 00020: accuracy improved from 0.99888 to 0.99928, saving model to models/LSTM.h5\n",
            "293/293 [==============================] - 32s 110ms/step - loss: 0.0045 - accuracy: 0.9993 - val_loss: 0.9071 - val_accuracy: 0.8518\n"
          ],
          "name": "stdout"
        }
      ]
    },
    {
      "cell_type": "code",
      "metadata": {
        "id": "LF6mfbOyWoWp",
        "colab": {
          "base_uri": "https://localhost:8080/",
          "height": 573
        },
        "outputId": "de92020b-1d7b-408f-e64a-40d2d9896e6b"
      },
      "source": [
        "#Code is taken from previous assignment\n",
        "import matplotlib.pyplot as plt\n",
        "plt.plot(history.history['accuracy'])\n",
        "plt.plot(history.history['val_accuracy'])\n",
        "plt.title(\"model accuracy\")\n",
        "plt.xlabel(\"accuracy\")\n",
        "plt.ylabel(\"epoch\")\n",
        "plt.legend(['train','valid'],loc='upper right')\n",
        "plt.show()\n",
        "plt.plot(history.history['loss'])\n",
        "plt.plot(history.history['val_loss'])\n",
        "plt.title(\"model loss\")\n",
        "plt.xlabel(\"loss\")\n",
        "plt.ylabel(\"epoch\")\n",
        "plt.legend(['train','valid'],loc='upper right')\n",
        "plt.show()"
      ],
      "execution_count": null,
      "outputs": [
        {
          "output_type": "display_data",
          "data": {
            "image/png": "[encoded data removed]",
            "text/plain": [
              "<Figure size 432x288 with 1 Axes>"
            ]
          },
          "metadata": {
            "tags": [],
            "needs_background": "light"
          }
        },
        {
          "output_type": "display_data",
          "data": {
            "image/png": "[encoded data removed]",
            "text/plain": [
              "<Figure size 432x288 with 1 Axes>"
            ]
          },
          "metadata": {
            "tags": [],
            "needs_background": "light"
          }
        }
      ]
    },
    {
      "cell_type": "code",
      "metadata": {
        "id": "hMFGr2kqUfiW",
        "colab": {
          "base_uri": "https://localhost:8080/"
        },
        "outputId": "632d4797-f2d9-4985-9da3-bb0c6ec6fb15"
      },
      "source": [
        "model.save('/content/drive/My Drive/AML/Assignment 2/LSTM_Model1')\n",
        "\n",
        "y_pred = model.predict_classes(x_test, batch_size = 128)\n",
        "\n",
        "true = 0\n",
        "for i, y in enumerate(y_test):\n",
        "    if y == y_pred[i]:\n",
        "        true += 1\n",
        "\n",
        "print('Correct Prediction: {}'.format(true))\n",
        "print('Wrong Prediction: {}'.format(len(y_pred) - true))\n",
        "print('Accuracy: {}'.format(true/len(y_pred)*100))"
      ],
      "execution_count": null,
      "outputs": [
        {
          "output_type": "stream",
          "text": [
            "WARNING:tensorflow:From /usr/local/lib/python3.6/dist-packages/tensorflow/python/training/tracking/tracking.py:111: Model.state_updates (from tensorflow.python.keras.engine.training) is deprecated and will be removed in a future version.\n",
            "Instructions for updating:\n",
            "This property should not be used in TensorFlow 2.0, as updates are applied automatically.\n",
            "WARNING:tensorflow:From /usr/local/lib/python3.6/dist-packages/tensorflow/python/training/tracking/tracking.py:111: Layer.updates (from tensorflow.python.keras.engine.base_layer) is deprecated and will be removed in a future version.\n",
            "Instructions for updating:\n",
            "This property should not be used in TensorFlow 2.0, as updates are applied automatically.\n",
            "INFO:tensorflow:Assets written to: /content/drive/My Drive/AML/Assignment 2/LSTM_Model1/assets\n",
            "WARNING:tensorflow:From <ipython-input-14-5ee174aed8da>:3: Sequential.predict_classes (from tensorflow.python.keras.engine.sequential) is deprecated and will be removed after 2021-01-01.\n",
            "Instructions for updating:\n",
            "Please use instead:* `np.argmax(model.predict(x), axis=-1)`,   if your model does multi-class classification   (e.g. if it uses a `softmax` last-layer activation).* `(model.predict(x) > 0.5).astype(\"int32\")`,   if your model does binary classification   (e.g. if it uses a `sigmoid` last-layer activation).\n",
            "Correct Prediction: 10647\n",
            "Wrong Prediction: 1853\n",
            "Accuracy: 85.176\n"
          ],
          "name": "stdout"
        }
      ]
    },
    {
      "cell_type": "code",
      "metadata": {
        "id": "Sz5RZfeIZeV7",
        "colab": {
          "base_uri": "https://localhost:8080/"
        },
        "outputId": "448d8d65-ab0c-48e4-ef14-18d38930c1e3"
      },
      "source": [
        "##Sentiment Analysis on custom review\n",
        "from tensorflow import keras\n",
        "loaded_model = keras.models.load_model('/content/drive/My Drive/AML/Assignment 2/LSTM_Model1')\n",
        "# loaded_model = load_model('models/LSTM.h5')\n",
        "review = str(input('Movie Review: '))\n",
        "\n",
        "\n",
        "# Pre-process input\n",
        "regex = re.compile(r'[^a-zA-Z\\s]')\n",
        "review = regex.sub('', review)\n",
        "print('Cleaned: ', review)\n",
        "\n",
        "words = review.split(' ')\n",
        "filtered = [w for w in words if w not in english_stops]\n",
        "filtered = ' '.join(filtered)\n",
        "filtered = [filtered.lower()]\n",
        "\n",
        "print('Filtered: ', filtered)\n",
        "\n",
        "\n",
        "tokenize_words = token.texts_to_sequences(filtered)\n",
        "tokenize_words = pad_sequences(tokenize_words, maxlen=max_length, padding='post', truncating='post')\n",
        "print(tokenize_words)\n",
        "\n",
        "result = loaded_model.predict(tokenize_words)\n",
        "print(result)\n",
        "\n",
        "if result >= 0.5:\n",
        "    print('positive')\n",
        "else:\n",
        "    print('negative')"
      ],
      "execution_count": null,
      "outputs": [
        {
          "output_type": "stream",
          "text": [
            "Movie Review: I am not sure about this movies.\n",
            "Cleaned:  I am not sure about this movies\n",
            "Filtered:  ['i sure movies']\n",
            "[[139  24   0   0   0   0   0   0   0   0   0   0   0   0   0   0   0   0\n",
            "    0   0   0   0   0   0   0   0   0   0   0   0   0   0   0   0   0   0\n",
            "    0   0   0   0   0   0   0   0   0   0   0   0   0   0   0   0   0   0\n",
            "    0   0   0   0   0   0   0   0   0   0   0   0   0   0   0   0   0   0\n",
            "    0   0   0   0   0   0   0   0   0   0   0   0   0   0   0   0   0   0\n",
            "    0   0   0   0   0   0   0   0   0   0   0   0   0   0   0   0   0   0\n",
            "    0   0   0   0   0   0   0   0   0   0]]\n",
            "[[0.5176944]]\n",
            "positive\n"
          ],
          "name": "stdout"
        }
      ]
    },
    {
      "cell_type": "code",
      "metadata": {
        "id": "QPlkz-viqQ6I",
        "colab": {
          "base_uri": "https://localhost:8080/"
        },
        "outputId": "31a55f95-6602-4fe7-b695-6b4137b93e5a"
      },
      "source": [
        "#Sentiment Analysis on other dataset Netflix\n",
        "# Data Taken from https://github.com/artem-oppermann/Sentiment-Analysis-of-Netflix-Reviews/tree/master/data/preprocessed\n",
        "\n",
        "data = pd.read_csv('/content/drive/My Drive/AML/Assignment 2/Netflix_DataSet.csv')\n",
        "print(data)\n",
        "\n",
        "english_stops = set(stopwords.words('english'))\n",
        "\n",
        "def load_dataset2():\n",
        "    df = pd.read_csv('/content/drive/My Drive/AML/Assignment 2/Netflix_DataSet.csv')\n",
        "    x_data = df['review']       # Reviews/Input\n",
        "    y_data = df['sentiment']    # Sentiment/Output\n",
        "\n",
        "    # PRE-PROCESS REVIEW\n",
        "    x_data = x_data.replace({'<.*?>': ''}, regex = True)          # remove html tag\n",
        "    x_data = x_data.replace({'[^A-Za-z]': ' '}, regex = True)     # remove non alphabet\n",
        "    x_data = x_data.apply(lambda review: [w.lower() for w in review.split()])   # lower case\n",
        "    x_data = x_data.apply(lambda review: [w for w in review if w not in english_stops])  # remove stop words\n",
        "    \n",
        "    # ENCODE SENTIMENT -> 0 & 1\n",
        "    # y_data = y_data.replace('positive', 1)\n",
        "    # y_data = y_data.replace('negative', 0)\n",
        "\n",
        "    return x_data, y_data\n",
        "\n",
        "x_data2, y_data2 = load_dataset2()\n",
        "\n",
        "x_data2 = token.texts_to_sequences(x_data2)\n",
        "x_data2 = pad_sequences(x_data2, maxlen=max_length, padding='post', truncating='post')\n",
        "# x_test  = pad_sequences(x_test, maxlen=max_length, padding='post', truncating='post')\n",
        "\n",
        "print('Reviews')\n",
        "print(x_data2, '\\n')\n",
        "print('Sentiment')\n",
        "print(y_data2)"
      ],
      "execution_count": null,
      "outputs": [
        {
          "output_type": "stream",
          "text": [
            "                                                  review  sentiment\n",
            "0                       a small movie with a big impact           1\n",
            "1      deliberately and skillfully uses ambiguity to ...          1\n",
            "2      poetry in motion captured on film while it can...          1\n",
            "3      basically a static series of semi improvised a...          0\n",
            "4      will assuredly rank as one of the cleverest mo...          1\n",
            "...                                                  ...        ...\n",
            "10657  it s usually a bad sign when directors abandon...          1\n",
            "10658                       the gags are often a stitch           1\n",
            "10659  it s as if de palma spent an hour setting a fa...          0\n",
            "10660  just the labour involved in creating the layer...          1\n",
            "10661  one of the most exciting action films to come ...          1\n",
            "\n",
            "[10662 rows x 2 columns]\n",
            "Reviews\n",
            "[[  267     1    91 ...     0     0     0]\n",
            " [ 4205  8348   939 ...     0     0     0]\n",
            " [ 3725  1146  1669 ...     0     0     0]\n",
            " ...\n",
            " [  765  5520   843 ...     0     0     0]\n",
            " [11318   428  1747 ...     0     0     0]\n",
            " [    3  1008   104 ...     0     0     0]] \n",
            "\n",
            "Sentiment\n",
            "0        1\n",
            "1        1\n",
            "2        1\n",
            "3        0\n",
            "4        1\n",
            "        ..\n",
            "10657    1\n",
            "10658    1\n",
            "10659    0\n",
            "10660    1\n",
            "10661    1\n",
            "Name: sentiment, Length: 10662, dtype: int64\n"
          ],
          "name": "stdout"
        }
      ]
    },
    {
      "cell_type": "code",
      "metadata": {
        "id": "VmE3fguXrTgo",
        "colab": {
          "base_uri": "https://localhost:8080/"
        },
        "outputId": "e460c42f-7849-4cda-8a29-85f845f52d22"
      },
      "source": [
        "y_pred = loaded_model.predict_classes(x_data2, batch_size = 128)\n",
        "\n",
        "true = 0\n",
        "for i, y in enumerate(y_data2):\n",
        "    if y == y_pred[i]:\n",
        "        true += 1\n",
        "\n",
        "print('Correct Prediction: {}'.format(true))\n",
        "print('Wrong Prediction: {}'.format(len(y_pred) - true))\n",
        "print('Accuracy: {}'.format(true/len(y_pred)*100))"
      ],
      "execution_count": null,
      "outputs": [
        {
          "output_type": "stream",
          "text": [
            "Correct Prediction: 7635\n",
            "Wrong Prediction: 3027\n",
            "Accuracy: 71.60945413618458\n"
          ],
          "name": "stdout"
        }
      ]
    },
    {
      "cell_type": "markdown",
      "metadata": {
        "id": "DOf8p8avt2-u"
      },
      "source": [
        "Netflix Analysis\n",
        "\n",
        "Correct Prediction: 7394\n",
        "Wrong Prediction: 3268\n",
        "Accuracy: 69.3490902269743"
      ]
    }
  ]
}